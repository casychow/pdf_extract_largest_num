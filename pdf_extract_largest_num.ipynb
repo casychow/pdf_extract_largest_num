{
 "cells": [
  {
   "cell_type": "code",
   "execution_count": 4,
   "metadata": {},
   "outputs": [],
   "source": [
    "import os\n",
    "from PyPDF2 import PdfReader\n",
    "\n",
    "curr_path = os.getcwd()\n",
    "filename = \"FY25 Air Force Working Capital Fund.pdf\"\n",
    "file_path = os.path.join(curr_path, filename)\n",
    "\n",
    "def check_file():\n",
    "    if not os.path.isfile(file_path):\n",
    "        print(\"File Does Not Exist\")\n",
    "        raise FileNotFoundError\n",
    "\n",
    "try:\n",
    "    check_file()\n",
    "except Exception as e:\n",
    "    print(f\"Exception {e}.\")\n",
    "\n",
    "file = open(file_path, \"rb\")\n",
    "pdf = PdfReader(file)\n",
    "max_pgs = len(pdf.pages)\n",
    "ret_str = '1' # Largest number in string format\n",
    "ret_num = float(ret_str) # Largest number"
   ]
  },
  {
   "cell_type": "code",
   "execution_count": 5,
   "metadata": {},
   "outputs": [],
   "source": [
    "def check_string(string):\n",
    "    curr_num_str = ''\n",
    "    contains_period = False\n",
    "    contains_minus = False\n",
    "    for char in string:\n",
    "        # Do not add ',' because if it is attached to a number, that will interfere with converting it into a float later\n",
    "        if char >= '0' and char <= '9':\n",
    "            curr_num_str += char\n",
    "        elif char == '.' and curr_num_str != '': # Keep '.' in case they are part of numbers\n",
    "            curr_num_str += char\n",
    "            contains_period = True\n",
    "        elif char == '-' and curr_num_str == '': # \"-...\" could be a negative number -> keep '-' for now\n",
    "            curr_num_str += char\n",
    "            contains_minus = True\n",
    "        elif char != ',' and char >= '!' and char <= '~' and curr_num_str != '':\n",
    "            # If char is not part of a number (,) but is anything else that comes after valid numbers, process valid number string first\n",
    "            # eg. 2022-...-2024 or 2022...abc...2024 or 2022...)...2024 -> read all numbers separately\n",
    "            # Unwanted character(s) mixed with numbers. Need to split string more\n",
    "            check_string(curr_num_str)\n",
    "            curr_num_str = '' # Reset curr_num_str to look at rest of string\n",
    "            # Don't adjust contains_minus because while we are not adding the minus char to the string, we don't know if there was a minus sign at the front\n",
    "\n",
    "    if curr_num_str != '': # After cleaning curr_num_str, if not empty check to convert to number\n",
    "        if contains_period:\n",
    "            if curr_num_str[-1] == '.': # Check if last char is period or not. If so, remove char\n",
    "                # Could be number with a period at the end (eg. \"2025.0.\")\n",
    "                curr_num_str = curr_num_str[:-1]\n",
    "            if len(curr_num_str.split('.')) > 2: # Possible version number (eg. 2.2.0) - disregard\n",
    "                return\n",
    "        \n",
    "        if contains_minus:\n",
    "            minus_strings = curr_num_str.split('-')\n",
    "            minus_substr_count = len(minus_strings)\n",
    "            if minus_substr_count == 2 and minus_strings[0] == '' and minus_strings[1] != '':\n",
    "                # First split substring is empty but not the second one - second half is a negative number\n",
    "                curr_num_str = '-' + minus_strings[1]\n",
    "        \n",
    "        if curr_num_str != '-':\n",
    "            num_float = float(curr_num_str)\n",
    "            global ret_str\n",
    "            global ret_num\n",
    "            if num_float > ret_num: # Check to replace largest number\n",
    "                ret_num = num_float\n",
    "                ret_str = \"{:,}\".format(ret_num) # Need to include ',' to keep all numbers consistent when checking\n",
    "\n",
    "def preprocess_by_type(num_string_input):\n",
    "    # Input parameter could be a word (str) or a list of words (list[str]), like when reading y-axes of tables\n",
    "    in_type = type(num_string_input)\n",
    "    if in_type is str:\n",
    "        check_string(num_string_input)\n",
    "    elif in_type is list: # If list, read every string from list\n",
    "        for list_string in num_string_input:\n",
    "            check_string(list_string)\n",
    "    "
   ]
  },
  {
   "cell_type": "code",
   "execution_count": 6,
   "metadata": {},
   "outputs": [
    {
     "name": "stdout",
     "output_type": "stream",
     "text": [
      "Largest Number: 6,000,000.0\n"
     ]
    }
   ],
   "source": [
    "for page_num in range(max_pgs): # For every page in PDF document\n",
    "    curr_page = pdf.pages[page_num] # Find current page\n",
    "    line = curr_page.extract_text().split() # Extract text from page, then refine line\n",
    "\n",
    "    for word in line: # For every line of text from page\n",
    "        # Possible that string contains $#..$#.. because reading table y-axes -> process several numbers together\n",
    "        # Could add other cases here for different types of units on table y-axes\n",
    "        if '$' in word:\n",
    "            word = word.split('$')\n",
    "            for subword in word:\n",
    "                preprocess_by_type(subword)\n",
    "        else:\n",
    "            preprocess_by_type(word)\n",
    "\n",
    "print(\"Largest Number:\", ret_str)"
   ]
  }
 ],
 "metadata": {
  "kernelspec": {
   "display_name": "Python 3",
   "language": "python",
   "name": "python3"
  },
  "language_info": {
   "codemirror_mode": {
    "name": "ipython",
    "version": 3
   },
   "file_extension": ".py",
   "mimetype": "text/x-python",
   "name": "python",
   "nbconvert_exporter": "python",
   "pygments_lexer": "ipython3",
   "version": "3.12.5"
  }
 },
 "nbformat": 4,
 "nbformat_minor": 2
}
